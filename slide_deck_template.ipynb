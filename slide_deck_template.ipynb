{
 "cells": [
  {
   "cell_type": "markdown",
   "metadata": {
    "slideshow": {
     "slide_type": "slide"
    }
   },
   "source": [
    "# (Presentation Title)\n",
    "## by (your name here)"
   ]
  },
  {
   "cell_type": "markdown",
   "metadata": {
    "slideshow": {
     "slide_type": "slide"
    }
   },
   "source": [
    "## Investigation Overview\n",
    "\n",
    "> Describe the overall goals of your presentation here.\n",
    "\n",
    "## Dataset Overview\n",
    "\n",
    "> Provide a brief overview of the dataset to be presented here."
   ]
  },
  {
   "cell_type": "code",
   "execution_count": 8,
   "metadata": {
    "slideshow": {
     "slide_type": "skip"
    }
   },
   "outputs": [],
   "source": [
    "# import all packages and set plots to be embedded inline\n",
    "import numpy as np\n",
    "import pandas as pd\n",
    "import matplotlib.pyplot as plt\n",
    "import seaborn as sb\n",
    "\n",
    "%matplotlib inline\n",
    "\n",
    "# suppress warnings from final output\n",
    "import warnings\n",
    "warnings.simplefilter(\"ignore\")"
   ]
  },
  {
   "cell_type": "code",
   "execution_count": 9,
   "metadata": {
    "slideshow": {
     "slide_type": "skip"
    }
   },
   "outputs": [],
   "source": [
    "#load dataset\n",
    "loans = pd.read_csv('data/prosperLoanData.csv')\n",
    "#grab completed loans only for review\n",
    "loans_c = loans[loans['LoanStatus'].isin(['Completed','Defaulted','Chargedoff','Cancelled','FinalPaymentInProgress'])]\n",
    "\n",
    "#CreditGrade is easier to write, so we'll maintain the ratings there. Any NA values found there will be filled by\n",
    "#Prosper Rating values. Assume these are equivalent for now - we can go check this assumption by \n",
    "\n",
    "loans_c['CreditGrade'].fillna(loans_c['ProsperRating (Alpha)'],inplace = True)\n",
    "loans_c['CreditGrade'].fillna('none',inplace=True)\n"
   ]
  },
  {
   "cell_type": "markdown",
   "metadata": {
    "slideshow": {
     "slide_type": "notes"
    }
   },
   "source": [
    "> Note that the above cells have been set as \"Skip\"-type slides. That means\n",
    "that when the notebook is rendered as http slides, those cells won't show up."
   ]
  },
  {
   "cell_type": "markdown",
   "metadata": {
    "slideshow": {
     "slide_type": "slide"
    }
   },
   "source": [
    "## (Visualization 1)\n",
    "\n",
    "> Write a comment about your visualization here. The visualization should be in\n",
    "the next cell, as a sub-slide type. Make sure your visualizations are polished!"
   ]
  },
  {
   "cell_type": "code",
   "execution_count": 10,
   "metadata": {
    "slideshow": {
     "slide_type": "subslide"
    }
   },
   "outputs": [
    {
     "data": {
      "image/png": "[encoded data removed]",
      "text/plain": [
       "<Figure size 1008x360 with 1 Axes>"
      ]
     },
     "metadata": {
      "needs_background": "light"
     },
     "output_type": "display_data"
    }
   ],
   "source": [
    "credit_order = ['AA','A','B','C','D','E','HR','NC','none']\n",
    "\n",
    "# Group by Credit Grade, calculate a rate, and make a new dataframe called completion_rates\n",
    "a = loans_c.groupby(['CreditGrade'])\n",
    "completion_rates = a['LoanStatus'].value_counts() / a['CreditGrade'].count()\n",
    "completion_rates = completion_rates.reset_index()\n",
    "completion_rates.rename(columns = {0:'Rate'},inplace=True)\n",
    "\n",
    "#copy existing dataframe\n",
    "completion_rates_m = completion_rates.copy()\n",
    "\n",
    "#generate a new dataframe, sort by Loan Status, and group by credit grade. Calculate combined failure rates and append new data\n",
    "a = completion_rates_m[completion_rates_m['LoanStatus'].isin(['Chargedoff','Defaulted','Cancelled'])].groupby('CreditGrade')\n",
    "b = a.sum()\n",
    "b['LoanStatus'] = 'Failed'\n",
    "b.reset_index(inplace=True)\n",
    "completion_rates_m = completion_rates_m.append(b,ignore_index=True)\n",
    "\n",
    "plt.subplots(figsize=(14,5))\n",
    "g = sb.barplot(data=completion_rates_m, x = 'CreditGrade',y='Rate',hue='LoanStatus',order=credit_order,ci=None,hue_order=['Completed','Failed'])\n",
    "plt.legend(bbox_to_anchor=(1.05,1),loc=2)\n",
    "plt.title('Loan Status Rates Compared Against Credit Grades')\n",
    "\n",
    "#https://stackoverflow.com/questions/45946970/displaying-of-values-on-barchart - thanks!\n",
    "for p in g.patches: \n",
    "    g.annotate(\"%.2f\" % p.get_height(), (p.get_x() + p.get_width() / 2., p.get_height()),\n",
    "                 ha='center', va='center', fontsize=11, color='black', xytext=(0, 20),\n",
    "                 textcoords='offset points')"
   ]
  },
  {
   "cell_type": "markdown",
   "metadata": {
    "collapsed": true,
    "slideshow": {
     "slide_type": "slide"
    }
   },
   "source": [
    "## (Visualization 2)\n",
    "\n",
    "> You should have at least three visualizations in your presentation,\n",
    "but feel free to add more if you'd like!"
   ]
  },
  {
   "cell_type": "code",
   "execution_count": null,
   "metadata": {
    "slideshow": {
     "slide_type": "subslide"
    }
   },
   "outputs": [],
   "source": []
  },
  {
   "cell_type": "markdown",
   "metadata": {
    "slideshow": {
     "slide_type": "slide"
    }
   },
   "source": [
    "## (Visualization 3)\n",
    "\n"
   ]
  },
  {
   "cell_type": "code",
   "execution_count": null,
   "metadata": {
    "slideshow": {
     "slide_type": "subslide"
    }
   },
   "outputs": [],
   "source": []
  },
  {
   "cell_type": "markdown",
   "metadata": {
    "slideshow": {
     "slide_type": "notes"
    }
   },
   "source": [
    "> Once you're ready to finish your presentation, check your output by using\n",
    "nbconvert to export the notebook and set up a server for the slides. From the\n",
    "terminal or command line, use the following expression:\n",
    "> > `jupyter nbconvert <file_name>.ipynb --to slides --post serve --template output_toggle`\n",
    "\n",
    "> This should open a tab in your web browser where you can scroll through your\n",
    "presentation. Sub-slides can be accessed by pressing 'down' when viewing its parent\n",
    "slide. Make sure you remove all of the quote-formatted guide notes like this one\n",
    "before you finish your presentation!"
   ]
  },
  {
   "cell_type": "code",
   "execution_count": null,
   "metadata": {},
   "outputs": [],
   "source": []
  }
 ],
 "metadata": {
  "celltoolbar": "Slideshow",
  "kernelspec": {
   "display_name": "Python 3",
   "language": "python",
   "name": "python3"
  },
  "language_info": {
   "codemirror_mode": {
    "name": "ipython",
    "version": 3
   },
   "file_extension": ".py",
   "mimetype": "text/x-python",
   "name": "python",
   "nbconvert_exporter": "python",
   "pygments_lexer": "ipython3",
   "version": "3.6.8"
  }
 },
 "nbformat": 4,
 "nbformat_minor": 2
}
