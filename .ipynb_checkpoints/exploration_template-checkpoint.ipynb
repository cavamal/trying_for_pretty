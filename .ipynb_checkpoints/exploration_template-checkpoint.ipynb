{
 "cells": [
  {
   "cell_type": "markdown",
   "metadata": {},
   "source": [
    "# Financial Nightmares: Digging in to Loans\n",
    "## by Spencer McTavish\n",
    "\n",
    "## Preliminary Wrangling\n",
    "\n",
    "> Briefly introduce your dataset here."
   ]
  },
  {
   "cell_type": "code",
   "execution_count": 9,
   "metadata": {},
   "outputs": [],
   "source": [
    "# import all packages and set plots to be embedded inline\n",
    "import numpy as np\n",
    "import pandas as pd\n",
    "import matplotlib.pyplot as plt\n",
    "import seaborn as sb\n",
    "\n",
    "%matplotlib inline"
   ]
  },
  {
   "cell_type": "markdown",
   "metadata": {},
   "source": [
    "> Load in your dataset and describe its properties through the questions below.\n",
    "Try and motivate your exploration goals through this section.\n",
    "\n",
    "### Potential Questions\n",
    "* What factors affect a loan’s outcome status?\n",
    "* What affects the borrower’s APR or interest rate?\n",
    "* Are there differences between loans depending on how large the original loan amount was?"
   ]
  },
  {
   "cell_type": "code",
   "execution_count": 10,
   "metadata": {},
   "outputs": [],
   "source": [
    "#the csv was \n",
    "loans = pd.read_csv('data/prosperLoanData.csv')\n",
    "loans_def=pd.read_csv('data/prosperLoanData-def.csv')"
   ]
  },
  {
   "cell_type": "code",
   "execution_count": 11,
   "metadata": {},
   "outputs": [
    {
     "data": {
      "text/plain": [
       "(113937, 81)"
      ]
     },
     "execution_count": 11,
     "metadata": {},
     "output_type": "execute_result"
    }
   ],
   "source": [
    "loans.shape"
   ]
  },
  {
   "cell_type": "code",
   "execution_count": 26,
   "metadata": {},
   "outputs": [
    {
     "data": {
      "text/plain": [
       "(81, 2)"
      ]
     },
     "execution_count": 26,
     "metadata": {},
     "output_type": "execute_result"
    }
   ],
   "source": [
    "loans_def.shape"
   ]
  },
  {
   "cell_type": "code",
   "execution_count": 12,
   "metadata": {},
   "outputs": [
    {
     "data": {
      "text/html": [
       "<div>\n",
       "<style scoped>\n",
       "    .dataframe tbody tr th:only-of-type {\n",
       "        vertical-align: middle;\n",
       "    }\n",
       "\n",
       "    .dataframe tbody tr th {\n",
       "        vertical-align: top;\n",
       "    }\n",
       "\n",
       "    .dataframe thead th {\n",
       "        text-align: right;\n",
       "    }\n",
       "</style>\n",
       "<table border=\"1\" class=\"dataframe\">\n",
       "  <thead>\n",
       "    <tr style=\"text-align: right;\">\n",
       "      <th></th>\n",
       "      <th>ListingKey</th>\n",
       "      <th>ListingNumber</th>\n",
       "      <th>ListingCreationDate</th>\n",
       "      <th>CreditGrade</th>\n",
       "      <th>Term</th>\n",
       "      <th>LoanStatus</th>\n",
       "      <th>ClosedDate</th>\n",
       "      <th>BorrowerAPR</th>\n",
       "      <th>BorrowerRate</th>\n",
       "      <th>LenderYield</th>\n",
       "      <th>...</th>\n",
       "      <th>LP_ServiceFees</th>\n",
       "      <th>LP_CollectionFees</th>\n",
       "      <th>LP_GrossPrincipalLoss</th>\n",
       "      <th>LP_NetPrincipalLoss</th>\n",
       "      <th>LP_NonPrincipalRecoverypayments</th>\n",
       "      <th>PercentFunded</th>\n",
       "      <th>Recommendations</th>\n",
       "      <th>InvestmentFromFriendsCount</th>\n",
       "      <th>InvestmentFromFriendsAmount</th>\n",
       "      <th>Investors</th>\n",
       "    </tr>\n",
       "  </thead>\n",
       "  <tbody>\n",
       "    <tr>\n",
       "      <th>85633</th>\n",
       "      <td>963535919740152540F4286</td>\n",
       "      <td>982347</td>\n",
       "      <td>2013-10-15 11:54:23.323000000</td>\n",
       "      <td>NaN</td>\n",
       "      <td>60</td>\n",
       "      <td>Current</td>\n",
       "      <td>NaN</td>\n",
       "      <td>0.19323</td>\n",
       "      <td>0.1695</td>\n",
       "      <td>0.1595</td>\n",
       "      <td>...</td>\n",
       "      <td>-49.68</td>\n",
       "      <td>0.0</td>\n",
       "      <td>0.00</td>\n",
       "      <td>0.0</td>\n",
       "      <td>0.00</td>\n",
       "      <td>1.0</td>\n",
       "      <td>0</td>\n",
       "      <td>0</td>\n",
       "      <td>0.0</td>\n",
       "      <td>128</td>\n",
       "    </tr>\n",
       "    <tr>\n",
       "      <th>61899</th>\n",
       "      <td>79763584445463444826CF3</td>\n",
       "      <td>838795</td>\n",
       "      <td>2013-07-13 14:45:07.567000000</td>\n",
       "      <td>NaN</td>\n",
       "      <td>36</td>\n",
       "      <td>Current</td>\n",
       "      <td>NaN</td>\n",
       "      <td>0.15324</td>\n",
       "      <td>0.1249</td>\n",
       "      <td>0.1149</td>\n",
       "      <td>...</td>\n",
       "      <td>-67.08</td>\n",
       "      <td>0.0</td>\n",
       "      <td>0.00</td>\n",
       "      <td>0.0</td>\n",
       "      <td>0.00</td>\n",
       "      <td>1.0</td>\n",
       "      <td>0</td>\n",
       "      <td>0</td>\n",
       "      <td>0.0</td>\n",
       "      <td>104</td>\n",
       "    </tr>\n",
       "    <tr>\n",
       "      <th>90557</th>\n",
       "      <td>EE863429232591483014E65</td>\n",
       "      <td>388645</td>\n",
       "      <td>2008-08-26 13:23:42.980000000</td>\n",
       "      <td>D</td>\n",
       "      <td>36</td>\n",
       "      <td>Defaulted</td>\n",
       "      <td>2011-11-04 00:00:00</td>\n",
       "      <td>0.18386</td>\n",
       "      <td>0.1620</td>\n",
       "      <td>0.1520</td>\n",
       "      <td>...</td>\n",
       "      <td>-68.06</td>\n",
       "      <td>-83.3</td>\n",
       "      <td>357.07</td>\n",
       "      <td>0.0</td>\n",
       "      <td>15.79</td>\n",
       "      <td>1.0</td>\n",
       "      <td>0</td>\n",
       "      <td>0</td>\n",
       "      <td>0.0</td>\n",
       "      <td>130</td>\n",
       "    </tr>\n",
       "    <tr>\n",
       "      <th>103158</th>\n",
       "      <td>94B73560133367926CFFF76</td>\n",
       "      <td>647418</td>\n",
       "      <td>2012-09-30 09:28:43.367000000</td>\n",
       "      <td>NaN</td>\n",
       "      <td>36</td>\n",
       "      <td>Completed</td>\n",
       "      <td>2013-07-22 00:00:00</td>\n",
       "      <td>0.24758</td>\n",
       "      <td>0.2099</td>\n",
       "      <td>0.1999</td>\n",
       "      <td>...</td>\n",
       "      <td>-85.53</td>\n",
       "      <td>0.0</td>\n",
       "      <td>0.00</td>\n",
       "      <td>0.0</td>\n",
       "      <td>0.00</td>\n",
       "      <td>1.0</td>\n",
       "      <td>0</td>\n",
       "      <td>0</td>\n",
       "      <td>0.0</td>\n",
       "      <td>209</td>\n",
       "    </tr>\n",
       "    <tr>\n",
       "      <th>108863</th>\n",
       "      <td>C6EF349069409098987990F</td>\n",
       "      <td>467981</td>\n",
       "      <td>2010-07-24 14:02:33.463000000</td>\n",
       "      <td>NaN</td>\n",
       "      <td>36</td>\n",
       "      <td>Completed</td>\n",
       "      <td>2013-07-29 00:00:00</td>\n",
       "      <td>0.11848</td>\n",
       "      <td>0.1150</td>\n",
       "      <td>0.1050</td>\n",
       "      <td>...</td>\n",
       "      <td>-32.63</td>\n",
       "      <td>0.0</td>\n",
       "      <td>0.00</td>\n",
       "      <td>0.0</td>\n",
       "      <td>0.00</td>\n",
       "      <td>1.0</td>\n",
       "      <td>0</td>\n",
       "      <td>0</td>\n",
       "      <td>0.0</td>\n",
       "      <td>40</td>\n",
       "    </tr>\n",
       "    <tr>\n",
       "      <th>7525</th>\n",
       "      <td>557636015567567341D7C6C</td>\n",
       "      <td>1187330</td>\n",
       "      <td>2014-02-10 12:48:50.570000000</td>\n",
       "      <td>NaN</td>\n",
       "      <td>60</td>\n",
       "      <td>Current</td>\n",
       "      <td>NaN</td>\n",
       "      <td>0.20065</td>\n",
       "      <td>0.1765</td>\n",
       "      <td>0.1665</td>\n",
       "      <td>...</td>\n",
       "      <td>0.00</td>\n",
       "      <td>0.0</td>\n",
       "      <td>0.00</td>\n",
       "      <td>0.0</td>\n",
       "      <td>0.00</td>\n",
       "      <td>1.0</td>\n",
       "      <td>0</td>\n",
       "      <td>0</td>\n",
       "      <td>0.0</td>\n",
       "      <td>1</td>\n",
       "    </tr>\n",
       "    <tr>\n",
       "      <th>96139</th>\n",
       "      <td>AE0635700916587835337C3</td>\n",
       "      <td>705666</td>\n",
       "      <td>2013-01-27 19:28:15.563000000</td>\n",
       "      <td>NaN</td>\n",
       "      <td>36</td>\n",
       "      <td>Past Due (1-15 days)</td>\n",
       "      <td>NaN</td>\n",
       "      <td>0.35356</td>\n",
       "      <td>0.3134</td>\n",
       "      <td>0.3034</td>\n",
       "      <td>...</td>\n",
       "      <td>-35.26</td>\n",
       "      <td>0.0</td>\n",
       "      <td>0.00</td>\n",
       "      <td>0.0</td>\n",
       "      <td>0.00</td>\n",
       "      <td>1.0</td>\n",
       "      <td>0</td>\n",
       "      <td>0</td>\n",
       "      <td>0.0</td>\n",
       "      <td>38</td>\n",
       "    </tr>\n",
       "    <tr>\n",
       "      <th>93708</th>\n",
       "      <td>276C3591545703586E87FA4</td>\n",
       "      <td>941040</td>\n",
       "      <td>2013-09-30 07:31:39.090000000</td>\n",
       "      <td>NaN</td>\n",
       "      <td>36</td>\n",
       "      <td>Current</td>\n",
       "      <td>NaN</td>\n",
       "      <td>0.12691</td>\n",
       "      <td>0.0990</td>\n",
       "      <td>0.0890</td>\n",
       "      <td>...</td>\n",
       "      <td>-58.46</td>\n",
       "      <td>0.0</td>\n",
       "      <td>0.00</td>\n",
       "      <td>0.0</td>\n",
       "      <td>0.00</td>\n",
       "      <td>1.0</td>\n",
       "      <td>0</td>\n",
       "      <td>0</td>\n",
       "      <td>0.0</td>\n",
       "      <td>1</td>\n",
       "    </tr>\n",
       "    <tr>\n",
       "      <th>68299</th>\n",
       "      <td>8A3735298091675823DC385</td>\n",
       "      <td>533974</td>\n",
       "      <td>2011-10-18 15:50:53.270000000</td>\n",
       "      <td>NaN</td>\n",
       "      <td>36</td>\n",
       "      <td>Current</td>\n",
       "      <td>NaN</td>\n",
       "      <td>0.29254</td>\n",
       "      <td>0.2574</td>\n",
       "      <td>0.2474</td>\n",
       "      <td>...</td>\n",
       "      <td>-48.69</td>\n",
       "      <td>0.0</td>\n",
       "      <td>0.00</td>\n",
       "      <td>0.0</td>\n",
       "      <td>0.00</td>\n",
       "      <td>1.0</td>\n",
       "      <td>0</td>\n",
       "      <td>0</td>\n",
       "      <td>0.0</td>\n",
       "      <td>3</td>\n",
       "    </tr>\n",
       "    <tr>\n",
       "      <th>80770</th>\n",
       "      <td>4BEB35808316475393C75D1</td>\n",
       "      <td>795522</td>\n",
       "      <td>2013-06-03 08:49:47.930000000</td>\n",
       "      <td>NaN</td>\n",
       "      <td>36</td>\n",
       "      <td>Current</td>\n",
       "      <td>NaN</td>\n",
       "      <td>0.13697</td>\n",
       "      <td>0.1089</td>\n",
       "      <td>0.0989</td>\n",
       "      <td>...</td>\n",
       "      <td>-116.77</td>\n",
       "      <td>0.0</td>\n",
       "      <td>0.00</td>\n",
       "      <td>0.0</td>\n",
       "      <td>0.00</td>\n",
       "      <td>1.0</td>\n",
       "      <td>0</td>\n",
       "      <td>0</td>\n",
       "      <td>0.0</td>\n",
       "      <td>265</td>\n",
       "    </tr>\n",
       "  </tbody>\n",
       "</table>\n",
       "<p>10 rows × 81 columns</p>\n",
       "</div>"
      ],
      "text/plain": [
       "                     ListingKey  ListingNumber            ListingCreationDate  \\\n",
       "85633   963535919740152540F4286         982347  2013-10-15 11:54:23.323000000   \n",
       "61899   79763584445463444826CF3         838795  2013-07-13 14:45:07.567000000   \n",
       "90557   EE863429232591483014E65         388645  2008-08-26 13:23:42.980000000   \n",
       "103158  94B73560133367926CFFF76         647418  2012-09-30 09:28:43.367000000   \n",
       "108863  C6EF349069409098987990F         467981  2010-07-24 14:02:33.463000000   \n",
       "7525    557636015567567341D7C6C        1187330  2014-02-10 12:48:50.570000000   \n",
       "96139   AE0635700916587835337C3         705666  2013-01-27 19:28:15.563000000   \n",
       "93708   276C3591545703586E87FA4         941040  2013-09-30 07:31:39.090000000   \n",
       "68299   8A3735298091675823DC385         533974  2011-10-18 15:50:53.270000000   \n",
       "80770   4BEB35808316475393C75D1         795522  2013-06-03 08:49:47.930000000   \n",
       "\n",
       "       CreditGrade  Term            LoanStatus           ClosedDate  \\\n",
       "85633          NaN    60               Current                  NaN   \n",
       "61899          NaN    36               Current                  NaN   \n",
       "90557            D    36             Defaulted  2011-11-04 00:00:00   \n",
       "103158         NaN    36             Completed  2013-07-22 00:00:00   \n",
       "108863         NaN    36             Completed  2013-07-29 00:00:00   \n",
       "7525           NaN    60               Current                  NaN   \n",
       "96139          NaN    36  Past Due (1-15 days)                  NaN   \n",
       "93708          NaN    36               Current                  NaN   \n",
       "68299          NaN    36               Current                  NaN   \n",
       "80770          NaN    36               Current                  NaN   \n",
       "\n",
       "        BorrowerAPR  BorrowerRate  LenderYield  ...  LP_ServiceFees  \\\n",
       "85633       0.19323        0.1695       0.1595  ...          -49.68   \n",
       "61899       0.15324        0.1249       0.1149  ...          -67.08   \n",
       "90557       0.18386        0.1620       0.1520  ...          -68.06   \n",
       "103158      0.24758        0.2099       0.1999  ...          -85.53   \n",
       "108863      0.11848        0.1150       0.1050  ...          -32.63   \n",
       "7525        0.20065        0.1765       0.1665  ...            0.00   \n",
       "96139       0.35356        0.3134       0.3034  ...          -35.26   \n",
       "93708       0.12691        0.0990       0.0890  ...          -58.46   \n",
       "68299       0.29254        0.2574       0.2474  ...          -48.69   \n",
       "80770       0.13697        0.1089       0.0989  ...         -116.77   \n",
       "\n",
       "        LP_CollectionFees  LP_GrossPrincipalLoss  LP_NetPrincipalLoss  \\\n",
       "85633                 0.0                   0.00                  0.0   \n",
       "61899                 0.0                   0.00                  0.0   \n",
       "90557               -83.3                 357.07                  0.0   \n",
       "103158                0.0                   0.00                  0.0   \n",
       "108863                0.0                   0.00                  0.0   \n",
       "7525                  0.0                   0.00                  0.0   \n",
       "96139                 0.0                   0.00                  0.0   \n",
       "93708                 0.0                   0.00                  0.0   \n",
       "68299                 0.0                   0.00                  0.0   \n",
       "80770                 0.0                   0.00                  0.0   \n",
       "\n",
       "       LP_NonPrincipalRecoverypayments  PercentFunded  Recommendations  \\\n",
       "85633                             0.00            1.0                0   \n",
       "61899                             0.00            1.0                0   \n",
       "90557                            15.79            1.0                0   \n",
       "103158                            0.00            1.0                0   \n",
       "108863                            0.00            1.0                0   \n",
       "7525                              0.00            1.0                0   \n",
       "96139                             0.00            1.0                0   \n",
       "93708                             0.00            1.0                0   \n",
       "68299                             0.00            1.0                0   \n",
       "80770                             0.00            1.0                0   \n",
       "\n",
       "       InvestmentFromFriendsCount InvestmentFromFriendsAmount Investors  \n",
       "85633                           0                         0.0       128  \n",
       "61899                           0                         0.0       104  \n",
       "90557                           0                         0.0       130  \n",
       "103158                          0                         0.0       209  \n",
       "108863                          0                         0.0        40  \n",
       "7525                            0                         0.0         1  \n",
       "96139                           0                         0.0        38  \n",
       "93708                           0                         0.0         1  \n",
       "68299                           0                         0.0         3  \n",
       "80770                           0                         0.0       265  \n",
       "\n",
       "[10 rows x 81 columns]"
      ]
     },
     "execution_count": 12,
     "metadata": {},
     "output_type": "execute_result"
    }
   ],
   "source": [
    "loans.sample(10)"
   ]
  },
  {
   "cell_type": "code",
   "execution_count": 27,
   "metadata": {},
   "outputs": [
    {
     "data": {
      "text/plain": [
       "Index(['ListingKey', 'ListingNumber', 'ListingCreationDate', 'CreditGrade',\n",
       "       'Term', 'LoanStatus', 'ClosedDate', 'BorrowerAPR', 'BorrowerRate',\n",
       "       'LenderYield', 'EstimatedEffectiveYield', 'EstimatedLoss',\n",
       "       'EstimatedReturn', 'ProsperRating (numeric)', 'ProsperRating (Alpha)',\n",
       "       'ProsperScore', 'ListingCategory (numeric)', 'BorrowerState',\n",
       "       'Occupation', 'EmploymentStatus', 'EmploymentStatusDuration',\n",
       "       'IsBorrowerHomeowner', 'CurrentlyInGroup', 'GroupKey',\n",
       "       'DateCreditPulled', 'CreditScoreRangeLower', 'CreditScoreRangeUpper',\n",
       "       'FirstRecordedCreditLine', 'CurrentCreditLines', 'OpenCreditLines',\n",
       "       'TotalCreditLinespast7years', 'OpenRevolvingAccounts',\n",
       "       'OpenRevolvingMonthlyPayment', 'InquiriesLast6Months', 'TotalInquiries',\n",
       "       'CurrentDelinquencies', 'AmountDelinquent', 'DelinquenciesLast7Years',\n",
       "       'PublicRecordsLast10Years', 'PublicRecordsLast12Months',\n",
       "       'RevolvingCreditBalance', 'BankcardUtilization',\n",
       "       'AvailableBankcardCredit', 'TotalTrades',\n",
       "       'TradesNeverDelinquent (percentage)', 'TradesOpenedLast6Months',\n",
       "       'DebtToIncomeRatio', 'IncomeRange', 'IncomeVerifiable',\n",
       "       'StatedMonthlyIncome', 'LoanKey', 'TotalProsperLoans',\n",
       "       'TotalProsperPaymentsBilled', 'OnTimeProsperPayments',\n",
       "       'ProsperPaymentsLessThanOneMonthLate',\n",
       "       'ProsperPaymentsOneMonthPlusLate', 'ProsperPrincipalBorrowed',\n",
       "       'ProsperPrincipalOutstanding', 'ScorexChangeAtTimeOfListing',\n",
       "       'LoanCurrentDaysDelinquent', 'LoanFirstDefaultedCycleNumber',\n",
       "       'LoanMonthsSinceOrigination', 'LoanNumber', 'LoanOriginalAmount',\n",
       "       'LoanOriginationDate', 'LoanOriginationQuarter', 'MemberKey',\n",
       "       'MonthlyLoanPayment', 'LP_CustomerPayments',\n",
       "       'LP_CustomerPrincipalPayments', 'LP_InterestandFees', 'LP_ServiceFees',\n",
       "       'LP_CollectionFees', 'LP_GrossPrincipalLoss', 'LP_NetPrincipalLoss',\n",
       "       'LP_NonPrincipalRecoverypayments', 'PercentFunded', 'Recommendations',\n",
       "       'InvestmentFromFriendsCount', 'InvestmentFromFriendsAmount',\n",
       "       'Investors'],\n",
       "      dtype='object')"
      ]
     },
     "execution_count": 27,
     "metadata": {},
     "output_type": "execute_result"
    }
   ],
   "source": [
    "loans.columns"
   ]
  },
  {
   "cell_type": "code",
   "execution_count": 39,
   "metadata": {},
   "outputs": [
    {
     "data": {
      "text/plain": [
       "C     18345\n",
       "B     15581\n",
       "A     14551\n",
       "D     14274\n",
       "E      9795\n",
       "HR     6935\n",
       "AA     5372\n",
       "Name: ProsperRating (Alpha), dtype: int64"
      ]
     },
     "execution_count": 39,
     "metadata": {},
     "output_type": "execute_result"
    }
   ],
   "source": [
    "loans['ProsperRating (Alpha)'].value_counts()"
   ]
  },
  {
   "cell_type": "code",
   "execution_count": 32,
   "metadata": {},
   "outputs": [
    {
     "data": {
      "text/plain": [
       "array([ True, False])"
      ]
     },
     "execution_count": 32,
     "metadata": {},
     "output_type": "execute_result"
    }
   ],
   "source": [
    "loans['CurrentlyInGroup'].unique()"
   ]
  },
  {
   "cell_type": "code",
   "execution_count": 40,
   "metadata": {},
   "outputs": [
    {
     "data": {
      "text/plain": [
       "0     109678\n",
       "1       3516\n",
       "2        568\n",
       "3        108\n",
       "4         26\n",
       "5         14\n",
       "9          6\n",
       "7          5\n",
       "6          4\n",
       "8          3\n",
       "16         2\n",
       "18         2\n",
       "24         1\n",
       "14         1\n",
       "19         1\n",
       "21         1\n",
       "39         1\n",
       "Name: Recommendations, dtype: int64"
      ]
     },
     "execution_count": 40,
     "metadata": {},
     "output_type": "execute_result"
    }
   ],
   "source": [
    "loans['Recommendations'].value_counts()"
   ]
  },
  {
   "cell_type": "markdown",
   "metadata": {},
   "source": [
    "### What is the structure of your dataset?\n",
    "\n",
    "The dataset is a large .csv consisting of each loan made by Prosper. It consists of a mass of individual data points for each loan. \n",
    "\n",
    "There exists a MemberKey column that is a unique identifier for each borrower in the dataset, which can be used for comparison purposes. \n",
    "\n",
    "### What is/are the main feature(s) of interest in your dataset?\n",
    "\n",
    "I'm interested in answering the question: \" What factors affect a loan's outcome status?\" This measure is captured under `LoanStatus`.\n",
    "\n",
    "### What features in the dataset do you think will help support your investigation into your feature(s) of interest?\n",
    "Relevant data should be unique to each loan, and indicative of the type of loan. The definitions in `loans_def` were reviewed to determine areas of possible interest. These were also grouped in to categories, summarized here: \n",
    "\n",
    "### Credit History \n",
    "* `CreditGrade`\n",
    "* `ProsperRating (Alpha)`\n",
    "* `ProsperScore`\n",
    "* `CreditScoreRangeLower`\n",
    "* `CreditScoreRangeUpper`\n",
    "* `CurrentCreditLines`\n",
    "* `OpenCreditLines`\n",
    "* `TotalCreditLinespast7years`\n",
    "* `OpenCreditLines`\n",
    "* `OpenRevolvingAccounts`\n",
    "* `InquiriesLast6Months`\n",
    "* `TotalInquiries`\n",
    "* `CurrentDelinquencies`\n",
    "* `AmountDelinquent`\n",
    "* `DelinquenciesLast7Years`\n",
    "* `PublicRecordsLast10Years`\n",
    "* `PublicRecordsLast12Months`\n",
    "* `RevolvingCreditBalance`\n",
    "* `BankcardUtilization`\n",
    "* `AvailableBankcardCredit`\n",
    "* `TotalTrades`\n",
    "* `TradesNeverDelinquent`\n",
    "* `TradesOpenedLast6Months`\n",
    "* `ScorexChangeAtTimeOfListing`\n",
    "\n",
    "### Loan Info\n",
    "* `Term`\n",
    "* `BorrowerAPR`\n",
    "* `BorrowerRate`\n",
    "* `LenderYield`\n",
    "* `EstimatedEffectiveYield`\n",
    "* `EstimatedLoss`\n",
    "* `EstimatedReturn`\n",
    "* `LoanOriginalAmount`\n",
    "* `MonthlyLoanPayment`\n",
    "* `ListingCategory`\n",
    "\n",
    "### Borrower Info \n",
    "* `Occupation`\n",
    "* `EmploymentStatus`\n",
    "* `EmploymentStatusDuration`\n",
    "* `IsBorrowerHomeowner`\n",
    "* `DebtToIncomeRatio`\n",
    "* `IncomeRange`\n",
    "* `IncomeVerifiable`\n",
    "* `StatedMonthlyIncome`\n",
    "* `MemberKey`\n",
    "* `Recommendations`\n",
    "* `InvestmentFromFriendsCount`\n",
    "* `InvestmentFromFriendsAmount`\n",
    "* `Investors`\n"
   ]
  },
  {
   "cell_type": "markdown",
   "metadata": {},
   "source": [
    "## Univariate Exploration\n",
    "\n",
    "> In this section, investigate distributions of individual variables. If\n",
    "you see unusual points or outliers, take a deeper look to clean things up\n",
    "and prepare yourself to look at relationships between variables."
   ]
  },
  {
   "cell_type": "code",
   "execution_count": 21,
   "metadata": {},
   "outputs": [
    {
     "data": {
      "text/plain": [
       "array(['Completed', 'Current', 'Past Due (1-15 days)', 'Defaulted',\n",
       "       'Chargedoff', 'Past Due (16-30 days)', 'Cancelled',\n",
       "       'Past Due (61-90 days)', 'Past Due (31-60 days)',\n",
       "       'Past Due (91-120 days)', 'FinalPaymentInProgress',\n",
       "       'Past Due (>120 days)'], dtype=object)"
      ]
     },
     "execution_count": 21,
     "metadata": {},
     "output_type": "execute_result"
    }
   ],
   "source": [
    "loans.LoanStatus.unique()"
   ]
  },
  {
   "cell_type": "code",
   "execution_count": 22,
   "metadata": {},
   "outputs": [
    {
     "data": {
      "text/plain": [
       "(array([ 0,  1,  2,  3,  4,  5,  6,  7,  8,  9, 10, 11]),\n",
       " <a list of 12 Text xticklabel objects>)"
      ]
     },
     "execution_count": 22,
     "metadata": {},
     "output_type": "execute_result"
    },
    {
     "data": {
      "image/png": "[encoded data removed]",
      "text/plain": [
       "<Figure size 432x288 with 1 Axes>"
      ]
     },
     "metadata": {
      "needs_background": "light"
     },
     "output_type": "display_data"
    }
   ],
   "source": [
    "order = ['Completed', 'Current','Defaulted','Chargedoff','Cancelled',\n",
    "         'FinalPaymentInProgress','Past Due (1-15 days)','Past Due (16-30 days)',\n",
    "         'Past Due (31-60 days)','Past Due (61-90 days)','Past Due (91-120 days)', \n",
    "         'Past Due (>120 days)']\n",
    "sb.countplot(data=loans,x='LoanStatus',order=order)\n",
    "plt.xticks(rotation=70)"
   ]
  },
  {
   "cell_type": "markdown",
   "metadata": {},
   "source": [
    "> Make sure that, after every plot or related series of plots, that you\n",
    "include a Markdown cell with comments about what you observed, and what\n",
    "you plan on investigating next."
   ]
  },
  {
   "cell_type": "code",
   "execution_count": null,
   "metadata": {},
   "outputs": [],
   "source": []
  },
  {
   "cell_type": "markdown",
   "metadata": {},
   "source": [
    "### Discuss the distribution(s) of your variable(s) of interest. Were there any unusual points? Did you need to perform any transformations?\n",
    "\n",
    "> Your answer here!\n",
    "\n",
    "### Of the features you investigated, were there any unusual distributions? Did you perform any operations on the data to tidy, adjust, or change the form of the data? If so, why did you do this?\n",
    "\n",
    "> Your answer here!"
   ]
  },
  {
   "cell_type": "markdown",
   "metadata": {},
   "source": [
    "## Bivariate Exploration\n",
    "\n",
    "> In this section, investigate relationships between pairs of variables in your\n",
    "data. Make sure the variables that you cover here have been introduced in some\n",
    "fashion in the previous section (univariate exploration)."
   ]
  },
  {
   "cell_type": "code",
   "execution_count": null,
   "metadata": {},
   "outputs": [],
   "source": []
  },
  {
   "cell_type": "markdown",
   "metadata": {},
   "source": [
    "### Talk about some of the relationships you observed in this part of the investigation. How did the feature(s) of interest vary with other features in the dataset?\n",
    "\n",
    "> Your answer here!\n",
    "\n",
    "### Did you observe any interesting relationships between the other features (not the main feature(s) of interest)?\n",
    "\n",
    "> Your answer here!"
   ]
  },
  {
   "cell_type": "markdown",
   "metadata": {},
   "source": [
    "## Multivariate Exploration\n",
    "\n",
    "> Create plots of three or more variables to investigate your data even\n",
    "further. Make sure that your investigations are justified, and follow from\n",
    "your work in the previous sections."
   ]
  },
  {
   "cell_type": "code",
   "execution_count": null,
   "metadata": {},
   "outputs": [],
   "source": []
  },
  {
   "cell_type": "markdown",
   "metadata": {},
   "source": [
    "### Talk about some of the relationships you observed in this part of the investigation. Were there features that strengthened each other in terms of looking at your feature(s) of interest?\n",
    "\n",
    "> Your answer here!\n",
    "\n",
    "### Were there any interesting or surprising interactions between features?\n",
    "\n",
    "> Your answer here!"
   ]
  },
  {
   "cell_type": "markdown",
   "metadata": {},
   "source": [
    "> At the end of your report, make sure that you export the notebook as an\n",
    "html file from the `File > Download as... > HTML` menu. Make sure you keep\n",
    "track of where the exported file goes, so you can put it in the same folder\n",
    "as this notebook for project submission. Also, make sure you remove all of\n",
    "the quote-formatted guide notes like this one before you finish your report!"
   ]
  },
  {
   "cell_type": "code",
   "execution_count": null,
   "metadata": {},
   "outputs": [],
   "source": []
  }
 ],
 "metadata": {
  "kernelspec": {
   "display_name": "Python 3",
   "language": "python",
   "name": "python3"
  },
  "language_info": {
   "codemirror_mode": {
    "name": "ipython",
    "version": 3
   },
   "file_extension": ".py",
   "mimetype": "text/x-python",
   "name": "python",
   "nbconvert_exporter": "python",
   "pygments_lexer": "ipython3",
   "version": "3.6.8"
  }
 },
 "nbformat": 4,
 "nbformat_minor": 2
}
